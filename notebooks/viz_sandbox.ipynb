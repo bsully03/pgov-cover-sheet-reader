{
 "cells": [
  {
   "cell_type": "markdown",
   "source": [
    "# Visualization Sandbox\n",
    "A notebook to explore each of the vizualizations that will be included in the final summary report. This document is used to informally explore various visualization libraries and develop code to be implemented into the data visualization pipeline."
   ],
   "metadata": {}
  },
  {
   "cell_type": "code",
   "execution_count": null,
   "source": [
    "import pandas as pd\n",
    "import seaborn as sns\n",
    "import matplotlib.pyplot as plt\n",
    "import matplotlib.font_manager as fm"
   ],
   "outputs": [],
   "metadata": {}
  },
  {
   "cell_type": "code",
   "execution_count": null,
   "source": [
    "df = pd.read_csv(\"../../dummy_cover_sheet_data.csv\")"
   ],
   "outputs": [],
   "metadata": {}
  },
  {
   "cell_type": "markdown",
   "source": [
    "# 1. Goal Status compared to last quarter"
   ],
   "metadata": {}
  },
  {
   "cell_type": "code",
   "execution_count": null,
   "source": [
    "num_apgs = len(df.loc[df[\"Agency Name\"] == \"SBA\", \"Goal Name\"].unique())"
   ],
   "outputs": [],
   "metadata": {}
  },
  {
   "cell_type": "code",
   "execution_count": null,
   "source": [
    "status_df = pd.read_csv(\"../../goal_status.csv\")"
   ],
   "outputs": [],
   "metadata": {}
  },
  {
   "cell_type": "markdown",
   "source": [
    "Method of ordering status on x-axis of plot"
   ],
   "metadata": {}
  },
  {
   "cell_type": "code",
   "execution_count": null,
   "source": [
    "from pandas.api.types import CategoricalDtype\n",
    "\n",
    "status_ordered = CategoricalDtype(\n",
    "    ['Blocked', 'On Track', 'Ahead'], \n",
    "    ordered=True\n",
    ")"
   ],
   "outputs": [],
   "metadata": {}
  },
  {
   "cell_type": "code",
   "execution_count": null,
   "source": [
    "sns.set_theme()\n",
    "\n",
    "font = {\n",
    "    'family' : 'sans-serif',\n",
    "    'size'   : 40\n",
    "}\n",
    "plt.rc('font', **font)\n",
    "\n",
    "for quarter in [\"Q3\", \"Q4\"]:\n",
    "    unique_statuses = status_df.loc[(status_df[\"Agency Name\"] == \"SBA\") & (status_df[\"Fiscal Year\"] == 2020) & (status_df[\"Quarter\"] == quarter)].reset_index(drop=True)\n",
    "    \n",
    "    for status in ['Ahead', 'Blocked', 'On track']:\n",
    "        if not status in unique_statuses[\"Status\"].unique():\n",
    "            new_row = pd.Series(unique_statuses.iloc[0])\n",
    "            new_row[\"Status\"] = status\n",
    "            new_row[\"Count\"] = 0\n",
    "            unique_statuses = unique_statuses.append(new_row).reset_index(drop=True)    \n",
    "            \n",
    "    unique_statuses[\"Status\"] = unique_statuses[\"Status\"].astype(status_ordered)\n",
    "    sns.barplot(x=unique_statuses[\"Status\"], y=unique_statuses[\"Count\"])\n",
    "    plt.suptitle(f\"{quarter} 2020\")\n",
    "    plt.xlabel(\"\")\n",
    "    plt.gca().margins(y=0)\n",
    "    plt.yticks(ticks=[i for i in range(num_apgs + 1)])\n",
    "    fig = plt.gcf()\n",
    "    ax = plt.gca()\n",
    "    plt.xticks(fontsize=24)\n",
    "    plt.yticks(fontsize=24)\n",
    "    ax.set_ylabel(ax.yaxis.get_label().get_text(), fontdict=font)\n",
    "    \n",
    "    fig.set_size_inches(12, 8)\n",
    "    fig.savefig(f\"../viz/goal_status_{quarter.lower()}_2020\", bbox_inches='tight')\n",
    "    plt.show() # essentially clears plot"
   ],
   "outputs": [],
   "metadata": {}
  },
  {
   "cell_type": "markdown",
   "source": [
    "# 2. Network diagram\n",
    "TBD. The idea here is to somehow link CAP goals and/or APGs across agencies."
   ],
   "metadata": {}
  },
  {
   "cell_type": "markdown",
   "source": [
    "# 3. Recurring challenges\n",
    "The idea here is to have a simple visualization that represents challenges that have been recurring over several quarters (e.g., if hiring has been reported for 5 straight quarters). This is more logic-based than figure-based; will hold off on implementing it for now."
   ],
   "metadata": {}
  },
  {
   "cell_type": "markdown",
   "source": [
    "# 4. Bump Chart"
   ],
   "metadata": {}
  },
  {
   "cell_type": "code",
   "execution_count": null,
   "source": [
    "challenge_df = pd.read_csv(\"../../challenge_count_by_quarter.csv\").sort_values(by=[\"Fiscal Year\", \"Quarter\"])"
   ],
   "outputs": [],
   "metadata": {}
  },
  {
   "cell_type": "code",
   "execution_count": null,
   "source": [
    "data = {}\r\n",
    "\r\n",
    "for challenge in challenge_df.Challenge.unique():\r\n",
    "    cumsum = list(challenge_df.loc[challenge_df[\"Challenge\"] == challenge][\"Count\"].cumsum())\r\n",
    "    data[challenge] = cumsum\r\n",
    "    \r\n",
    "pd.DataFrame(data).plot.area(stacked=False)\r\n",
    "plt.xticks([i for i in range(len([f\"{quarter}\" for year in challenge_df[\"Fiscal Year\"].unique() for quarter in challenge_df[\"Quarter\"].unique()]))], [f\"{quarter}\" for year in challenge_df[\"Fiscal Year\"].unique() for quarter in challenge_df[\"Quarter\"].unique()])\r\n",
    "plt.gca().grid(False)\r\n",
    "plt.show()"
   ],
   "outputs": [],
   "metadata": {}
  },
  {
   "cell_type": "markdown",
   "source": [
    "# 5. Total occurrences of each challenge that was reported in quarter"
   ],
   "metadata": {}
  },
  {
   "cell_type": "code",
   "execution_count": null,
   "source": [
    "df_slice = challenge_df.loc[(challenge_df[\"Quarter\"] == \"Q4\") & (challenge_df[\"Fiscal Year\"] == 2020)].sort_values(by=\"Count\", ascending=False)\r\n",
    "sns.barplot(x=\"Challenge\", y=\"Count\", data=df_slice, ci=None)\r\n",
    "plt.xticks(rotation=45, ha = 'right')\r\n",
    "plt.yticks(ticks=[i for i in range(num_apgs + 1)])\r\n",
    "plt.show()"
   ],
   "outputs": [],
   "metadata": {}
  },
  {
   "cell_type": "markdown",
   "source": [
    "# 6. Current goal status speedometer\n",
    "This would be a static image that is placed into the Word doc based on the goal status: this will be designed outside of any visualization libraries."
   ],
   "metadata": {}
  },
  {
   "cell_type": "markdown",
   "source": [
    "# 7. Goal status over time\n",
    "[Possible nested ticks solution](https://stackoverflow.com/questions/20532614/multiple-lines-of-x-tick-labels-in-matplotlib)"
   ],
   "metadata": {}
  },
  {
   "cell_type": "code",
   "execution_count": null,
   "source": [
    "sba_goal_status_df = df.loc[(df[\"Agency Name\"] == \"SBA\") & (df[\"Goal Name\"] == \"Increase US Small Business Export Sales\")].sort_values(by=[\"Fiscal Year\",\"Quarter\"])\r\n",
    "sba_goal_status_df[\"Quarter/Year\"] = sba_goal_status_df[\"Quarter\"] + \" \" + sba_goal_status_df[\"Fiscal Year\"].astype(str)"
   ],
   "outputs": [],
   "metadata": {}
  },
  {
   "cell_type": "code",
   "execution_count": null,
   "source": [
    "fig, ax = plt.subplots()\r\n",
    "ax.axhline(0.5, color=\"white\")\r\n",
    "ax.axhline(1.5, color=\"white\")\r\n",
    "ax.axvline(3.5, color=\"white\", linestyle=\"--\", dashes=[6,9])\r\n",
    "ax.axvline(7.5, color=\"white\", linestyle=\"--\", dashes=[6,9])\r\n",
    "ax.axvline(11.5, color=\"white\", linestyle=\"--\", dashes=[6,9])\r\n",
    "\r\n",
    "plt.plot(sba_goal_status_df[\"Quarter/Year\"], sba_goal_status_df[\"Status\"], marker=\"o\")\r\n",
    "plt.xticks(rotation=90)\r\n",
    "\r\n",
    "ax = plt.gca()\r\n",
    "ax.margins(y=0.25)\r\n",
    "# ax.grid(linestyle=\"--\", dashes=[6, 6], color=\"white\")\r\n",
    "ax.grid(False)\r\n",
    "\r\n",
    "plt.show()"
   ],
   "outputs": [],
   "metadata": {}
  }
 ],
 "metadata": {
  "kernelspec": {
   "display_name": "Python 3",
   "language": "python",
   "name": "python3"
  },
  "language_info": {
   "codemirror_mode": {
    "name": "ipython",
    "version": 3
   },
   "file_extension": ".py",
   "mimetype": "text/x-python",
   "name": "python",
   "nbconvert_exporter": "python",
   "pygments_lexer": "ipython3",
   "version": "3.8.5"
  }
 },
 "nbformat": 4,
 "nbformat_minor": 4
}